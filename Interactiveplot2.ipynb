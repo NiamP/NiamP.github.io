{
 "cells": [
  {
   "cell_type": "code",
   "execution_count": 5,
   "metadata": {},
   "outputs": [],
   "source": [
    "import pandas as pd\n",
    "import yfinance as yf"
   ]
  },
  {
   "cell_type": "code",
   "execution_count": 3,
   "metadata": {},
   "outputs": [],
   "source": [
    "tickers = [\"AAPL\",\"MSFT\",\"TSLA\",\"AMZN\",\"NVDA\"]"
   ]
  },
  {
   "cell_type": "code",
   "execution_count": 8,
   "metadata": {},
   "outputs": [
    {
     "name": "stderr",
     "output_type": "stream",
     "text": [
      "/var/folders/h4/4ms0y4fx7k1bn7nfwx319_kc0000gn/T/ipykernel_48509/2171543552.py:15: FutureWarning: The behavior of DataFrame concatenation with empty or all-NA entries is deprecated. In a future version, this will no longer exclude empty or all-NA columns when determining the result dtypes. To retain the old behavior, exclude the relevant entries before the concat operation.\n",
      "  df = pd.concat([df,temp], ignore_index=True)\n"
     ]
    }
   ],
   "source": [
    "df = pd.DataFrame(columns=['Date','Close','Company'])\n",
    "\n",
    "for i in range(len(tickers)):\n",
    "    ticker = yf.Ticker(tickers[i])\n",
    "\n",
    "    historicaldata = ticker.history(start='2019-01-01')\n",
    "    closeprices = historicaldata['Close']\n",
    "\n",
    "    temp = pd.DataFrame({\n",
    "        'Date': closeprices.index,\n",
    "        'Close': closeprices,\n",
    "        'Company': tickers[i],\n",
    "    })\n",
    "\n",
    "    df = pd.concat([df,temp], ignore_index=True)"
   ]
  },
  {
   "cell_type": "code",
   "execution_count": 10,
   "metadata": {},
   "outputs": [],
   "source": [
    "df.to_csv('interactivedata2.csv')"
   ]
  }
 ],
 "metadata": {
  "kernelspec": {
   "display_name": ".venv",
   "language": "python",
   "name": "python3"
  },
  "language_info": {
   "codemirror_mode": {
    "name": "ipython",
    "version": 3
   },
   "file_extension": ".py",
   "mimetype": "text/x-python",
   "name": "python",
   "nbconvert_exporter": "python",
   "pygments_lexer": "ipython3",
   "version": "3.12.5"
  }
 },
 "nbformat": 4,
 "nbformat_minor": 2
}
