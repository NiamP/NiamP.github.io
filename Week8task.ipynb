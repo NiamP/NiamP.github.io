{
 "cells": [
  {
   "cell_type": "code",
   "execution_count": 1,
   "metadata": {},
   "outputs": [],
   "source": [
    "import pandas as pd"
   ]
  },
  {
   "cell_type": "code",
   "execution_count": 2,
   "metadata": {},
   "outputs": [
    {
     "name": "stdout",
     "output_type": "stream",
     "text": [
      "                                          Series Name  Series Code  \\\n",
      "0                                   Population, total  SP.POP.TOTL   \n",
      "1                                   Population, total  SP.POP.TOTL   \n",
      "2                                   Population, total  SP.POP.TOTL   \n",
      "3                                   Population, total  SP.POP.TOTL   \n",
      "4                                   Population, total  SP.POP.TOTL   \n",
      "..                                                ...          ...   \n",
      "798                                               NaN          NaN   \n",
      "799                                               NaN          NaN   \n",
      "800                                               NaN          NaN   \n",
      "801  Data from database: World Development Indicators          NaN   \n",
      "802                          Last Updated: 11/13/2024          NaN   \n",
      "\n",
      "       Country Name Country Code 2022 [YR2022] 2023 [YR2023]  \n",
      "0       Afghanistan          AFG      41128771      42239854  \n",
      "1           Albania          ALB       2777689       2745972  \n",
      "2           Algeria          DZA      44903225      45606480  \n",
      "3    American Samoa          ASM         44273         43914  \n",
      "4           Andorra          AND         79824         80088  \n",
      "..              ...          ...           ...           ...  \n",
      "798             NaN          NaN           NaN           NaN  \n",
      "799             NaN          NaN           NaN           NaN  \n",
      "800             NaN          NaN           NaN           NaN  \n",
      "801             NaN          NaN           NaN           NaN  \n",
      "802             NaN          NaN           NaN           NaN  \n",
      "\n",
      "[803 rows x 6 columns]\n"
     ]
    }
   ],
   "source": [
    "df = pd.read_csv('/Users/niampopat/Library/CloudStorage/OneDrive-UniversityofBristol/Documents/Data science for Economists/CSVs/bede030f-1a19-41f7-8b98-d50ebc49e90d_Data.csv')\n",
    "\n",
    "print(df)"
   ]
  },
  {
   "cell_type": "code",
   "execution_count": 3,
   "metadata": {},
   "outputs": [
    {
     "name": "stdout",
     "output_type": "stream",
     "text": [
      "Index(['Series Name', 'Series Code', 'Country Name', 'Country Code',\n",
      "       '2022 [YR2022]', '2023 [YR2023]'],\n",
      "      dtype='object')\n"
     ]
    }
   ],
   "source": [
    "print(df.columns)"
   ]
  },
  {
   "cell_type": "code",
   "execution_count": 13,
   "metadata": {},
   "outputs": [
    {
     "name": "stdout",
     "output_type": "stream",
     "text": [
      "Index(['Country Name', '2022 [YR2022]', 'Series Name'], dtype='object')\n",
      "                                   Country Name     2022 [YR2022]  \\\n",
      "0                                   Afghanistan          41128771   \n",
      "1                                       Albania           2777689   \n",
      "2                                       Algeria          44903225   \n",
      "3                                American Samoa             44273   \n",
      "4                                       Andorra             79824   \n",
      "..                                          ...               ...   \n",
      "793                          Sub-Saharan Africa              33.6   \n",
      "794  Sub-Saharan Africa (excluding high income)  34.2083412575151   \n",
      "795   Sub-Saharan Africa (IDA & IBRD countries)              33.6   \n",
      "796                         Upper middle income              76.6   \n",
      "797                                       World              64.4   \n",
      "\n",
      "                                          Series Name  \n",
      "0                                   Population, total  \n",
      "1                                   Population, total  \n",
      "2                                   Population, total  \n",
      "3                                   Population, total  \n",
      "4                                   Population, total  \n",
      "..                                                ...  \n",
      "793  Individuals using the Internet (% of population)  \n",
      "794  Individuals using the Internet (% of population)  \n",
      "795  Individuals using the Internet (% of population)  \n",
      "796  Individuals using the Internet (% of population)  \n",
      "797  Individuals using the Internet (% of population)  \n",
      "\n",
      "[798 rows x 3 columns]\n"
     ]
    }
   ],
   "source": [
    "df = df[['Country Name', '2022 [YR2022]','Series Name']]\n",
    "print(df.columns)\n",
    "df.dropna(inplace=True)\n",
    "print(df)"
   ]
  },
  {
   "cell_type": "code",
   "execution_count": 16,
   "metadata": {},
   "outputs": [
    {
     "data": {
      "text/html": [
       "<div>\n",
       "<style scoped>\n",
       "    .dataframe tbody tr th:only-of-type {\n",
       "        vertical-align: middle;\n",
       "    }\n",
       "\n",
       "    .dataframe tbody tr th {\n",
       "        vertical-align: top;\n",
       "    }\n",
       "\n",
       "    .dataframe thead th {\n",
       "        text-align: right;\n",
       "    }\n",
       "</style>\n",
       "<table border=\"1\" class=\"dataframe\">\n",
       "  <thead>\n",
       "    <tr style=\"text-align: right;\">\n",
       "      <th>Series Name</th>\n",
       "      <th>GDP per capita (current US$)</th>\n",
       "      <th>Individuals using the Internet (% of population)</th>\n",
       "      <th>Population, total</th>\n",
       "    </tr>\n",
       "    <tr>\n",
       "      <th>Country Name</th>\n",
       "      <th></th>\n",
       "      <th></th>\n",
       "      <th></th>\n",
       "    </tr>\n",
       "  </thead>\n",
       "  <tbody>\n",
       "    <tr>\n",
       "      <th>Afghanistan</th>\n",
       "      <td>352.603733092107</td>\n",
       "      <td>..</td>\n",
       "      <td>41128771</td>\n",
       "    </tr>\n",
       "    <tr>\n",
       "      <th>Africa Eastern and Southern</th>\n",
       "      <td>1642.43203899493</td>\n",
       "      <td>31.4</td>\n",
       "      <td>720859132</td>\n",
       "    </tr>\n",
       "    <tr>\n",
       "      <th>Africa Western and Central</th>\n",
       "      <td>1788.8753472127</td>\n",
       "      <td>36.9</td>\n",
       "      <td>490330870</td>\n",
       "    </tr>\n",
       "    <tr>\n",
       "      <th>Albania</th>\n",
       "      <td>6810.11404104233</td>\n",
       "      <td>82.6137</td>\n",
       "      <td>2777689</td>\n",
       "    </tr>\n",
       "    <tr>\n",
       "      <th>Algeria</th>\n",
       "      <td>5023.25293164928</td>\n",
       "      <td>71.2432</td>\n",
       "      <td>44903225</td>\n",
       "    </tr>\n",
       "    <tr>\n",
       "      <th>...</th>\n",
       "      <td>...</td>\n",
       "      <td>...</td>\n",
       "      <td>...</td>\n",
       "    </tr>\n",
       "    <tr>\n",
       "      <th>West Bank and Gaza</th>\n",
       "      <td>3799.95527015163</td>\n",
       "      <td>88.6469</td>\n",
       "      <td>5043612</td>\n",
       "    </tr>\n",
       "    <tr>\n",
       "      <th>World</th>\n",
       "      <td>12730.1571671098</td>\n",
       "      <td>64.4</td>\n",
       "      <td>7951595433</td>\n",
       "    </tr>\n",
       "    <tr>\n",
       "      <th>Yemen, Rep.</th>\n",
       "      <td>..</td>\n",
       "      <td>17.6948</td>\n",
       "      <td>33696614</td>\n",
       "    </tr>\n",
       "    <tr>\n",
       "      <th>Zambia</th>\n",
       "      <td>1456.90157026157</td>\n",
       "      <td>31.2342</td>\n",
       "      <td>20017675</td>\n",
       "    </tr>\n",
       "    <tr>\n",
       "      <th>Zimbabwe</th>\n",
       "      <td>1676.82148896788</td>\n",
       "      <td>32.5615</td>\n",
       "      <td>16320537</td>\n",
       "    </tr>\n",
       "  </tbody>\n",
       "</table>\n",
       "<p>266 rows × 3 columns</p>\n",
       "</div>"
      ],
      "text/plain": [
       "Series Name                 GDP per capita (current US$)  \\\n",
       "Country Name                                               \n",
       "Afghanistan                             352.603733092107   \n",
       "Africa Eastern and Southern             1642.43203899493   \n",
       "Africa Western and Central               1788.8753472127   \n",
       "Albania                                 6810.11404104233   \n",
       "Algeria                                 5023.25293164928   \n",
       "...                                                  ...   \n",
       "West Bank and Gaza                      3799.95527015163   \n",
       "World                                   12730.1571671098   \n",
       "Yemen, Rep.                                           ..   \n",
       "Zambia                                  1456.90157026157   \n",
       "Zimbabwe                                1676.82148896788   \n",
       "\n",
       "Series Name                 Individuals using the Internet (% of population)  \\\n",
       "Country Name                                                                   \n",
       "Afghanistan                                                               ..   \n",
       "Africa Eastern and Southern                                             31.4   \n",
       "Africa Western and Central                                              36.9   \n",
       "Albania                                                              82.6137   \n",
       "Algeria                                                              71.2432   \n",
       "...                                                                      ...   \n",
       "West Bank and Gaza                                                   88.6469   \n",
       "World                                                                   64.4   \n",
       "Yemen, Rep.                                                          17.6948   \n",
       "Zambia                                                               31.2342   \n",
       "Zimbabwe                                                             32.5615   \n",
       "\n",
       "Series Name                 Population, total  \n",
       "Country Name                                   \n",
       "Afghanistan                          41128771  \n",
       "Africa Eastern and Southern         720859132  \n",
       "Africa Western and Central          490330870  \n",
       "Albania                               2777689  \n",
       "Algeria                              44903225  \n",
       "...                                       ...  \n",
       "West Bank and Gaza                    5043612  \n",
       "World                              7951595433  \n",
       "Yemen, Rep.                          33696614  \n",
       "Zambia                               20017675  \n",
       "Zimbabwe                             16320537  \n",
       "\n",
       "[266 rows x 3 columns]"
      ]
     },
     "execution_count": 16,
     "metadata": {},
     "output_type": "execute_result"
    }
   ],
   "source": [
    "df_pivot = df.pivot(index='Country Name',columns = 'Series Name', values = '2022 [YR2022]')\n",
    "df_pivot"
   ]
  },
  {
   "cell_type": "code",
   "execution_count": 22,
   "metadata": {},
   "outputs": [],
   "source": [
    "\n",
    "df_cleaned = df_pivot[~df_pivot.apply(lambda row: row.astype(str).eq('..').any(), axis=1)]\n",
    "df_cleaned.to_csv('week8taskt.csv')\n",
    "\n"
   ]
  }
 ],
 "metadata": {
  "kernelspec": {
   "display_name": ".venv",
   "language": "python",
   "name": "python3"
  },
  "language_info": {
   "codemirror_mode": {
    "name": "ipython",
    "version": 3
   },
   "file_extension": ".py",
   "mimetype": "text/x-python",
   "name": "python",
   "nbconvert_exporter": "python",
   "pygments_lexer": "ipython3",
   "version": "3.12.5"
  }
 },
 "nbformat": 4,
 "nbformat_minor": 2
}
