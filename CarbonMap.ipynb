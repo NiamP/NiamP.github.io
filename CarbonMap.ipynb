{
 "cells": [
  {
   "cell_type": "code",
   "execution_count": 341,
   "metadata": {},
   "outputs": [],
   "source": [
    "\n",
    "import pandas as pd\n",
    "import plotly.express as px\n",
    "import plotly.io as pio\n"
   ]
  },
  {
   "cell_type": "code",
   "execution_count": 342,
   "metadata": {},
   "outputs": [],
   "source": [
    "df = pd.read_csv(\"https://ourworldindata.org/grapher/annual-co2-emissions-per-country.csv?v=1&csvType=full&useColumnShortNames=true\", storage_options = {'User-Agent': 'Our World In Data data fetch/1.0'})"
   ]
  },
  {
   "cell_type": "code",
   "execution_count": 343,
   "metadata": {},
   "outputs": [
    {
     "name": "stdout",
     "output_type": "stream",
     "text": [
      "            Entity Code  Year  emissions_total\n",
      "0      Afghanistan  AFG  1949          14656.0\n",
      "1      Afghanistan  AFG  1950          84272.0\n",
      "2      Afghanistan  AFG  1951          91600.0\n",
      "3      Afghanistan  AFG  1952          91600.0\n",
      "4      Afghanistan  AFG  1953         106256.0\n",
      "...            ...  ...   ...              ...\n",
      "29132     Zimbabwe  ZWE  2019       10262950.0\n",
      "29133     Zimbabwe  ZWE  2020        8494503.0\n",
      "29134     Zimbabwe  ZWE  2021       10203630.0\n",
      "29135     Zimbabwe  ZWE  2022       10424940.0\n",
      "29136     Zimbabwe  ZWE  2023       11164030.0\n",
      "\n",
      "[29137 rows x 4 columns]\n"
     ]
    }
   ],
   "source": [
    "print(df)"
   ]
  },
  {
   "cell_type": "code",
   "execution_count": 344,
   "metadata": {},
   "outputs": [
    {
     "name": "stdout",
     "output_type": "stream",
     "text": [
      "            Entity Code  Year  emissions_total\n",
      "0      Afghanistan  AFG  1949          14656.0\n",
      "1      Afghanistan  AFG  1950          84272.0\n",
      "2      Afghanistan  AFG  1951          91600.0\n",
      "3      Afghanistan  AFG  1952          91600.0\n",
      "4      Afghanistan  AFG  1953         106256.0\n",
      "...            ...  ...   ...              ...\n",
      "29132     Zimbabwe  ZWE  2019       10262950.0\n",
      "29133     Zimbabwe  ZWE  2020        8494503.0\n",
      "29134     Zimbabwe  ZWE  2021       10203630.0\n",
      "29135     Zimbabwe  ZWE  2022       10424940.0\n",
      "29136     Zimbabwe  ZWE  2023       11164030.0\n",
      "\n",
      "[23158 rows x 4 columns]\n"
     ]
    }
   ],
   "source": [
    "df = df[df['Year']>=1900]\n",
    "print(df)"
   ]
  },
  {
   "cell_type": "code",
   "execution_count": 345,
   "metadata": {},
   "outputs": [],
   "source": [
    "df = df.replace('',pd.NA)\n",
    "df.dropna()\n",
    "df = df[df['Code'].str.len() <= 3]\n"
   ]
  },
  {
   "cell_type": "code",
   "execution_count": 346,
   "metadata": {},
   "outputs": [
    {
     "name": "stdout",
     "output_type": "stream",
     "text": [
      "0.0 11902503000.0\n"
     ]
    }
   ],
   "source": [
    "max_val = df[\"emissions_total\"].max()\n",
    "min_val = df[\"emissions_total\"].min()\n",
    "print(min_val, max_val)"
   ]
  },
  {
   "cell_type": "code",
   "execution_count": 347,
   "metadata": {},
   "outputs": [],
   "source": [
    "df = df.sort_values(\"Year\")"
   ]
  },
  {
   "cell_type": "code",
   "execution_count": 348,
   "metadata": {},
   "outputs": [],
   "source": [
    "ranges = [(0,5e6),(5e6, 5e7),(5e7,2.5e8),(2.5e8,1e9),(1e9,5e9),(5e9,1e10),(1e10,1.5e10),(1.5e10,2e10)]\n",
    "colors = [\"#ffffcc\", \"#ffeda0\", \"#fed976\", \"#feb24c\", \"#fd8d3c\", \"#fc4e2a\", \"#e31a1c\", \"#b10026\"] \n",
    "\n",
    "discrete_labels = [\"0-5M\",\"5M-50M\",\"50M-250M\",\"250M-1B\",\"1B-5B\",\"5B-10B\",\"10B-15B\",\"15B+\"]"
   ]
  },
  {
   "cell_type": "code",
   "execution_count": 349,
   "metadata": {},
   "outputs": [],
   "source": [
    "def categorise_emissions(emissions_value):\n",
    "    for i, (lower, upper) in enumerate(ranges):\n",
    "        if lower <= emissions_value < upper:\n",
    "            return discrete_labels[i]\n",
    "    return[None]\n",
    "\n",
    "df['emissions_bin'] = df['emissions_total'].apply(categorise_emissions)\n"
   ]
  },
  {
   "cell_type": "code",
   "execution_count": 350,
   "metadata": {},
   "outputs": [],
   "source": [
    "df = df.dropna(subset=['emissions_bin'])\n",
    "color_discrete_map = {label: color for label,color in zip(discrete_labels, colors)}\n"
   ]
  },
  {
   "cell_type": "code",
   "execution_count": 351,
   "metadata": {},
   "outputs": [],
   "source": [
    "df = df.sort_values('Year')\n",
    "df['Year']=pd.to_numeric(df['Year'])"
   ]
  },
  {
   "cell_type": "code",
   "execution_count": 352,
   "metadata": {},
   "outputs": [],
   "source": [
    "pio.renderers.default = \"browser\""
   ]
  },
  {
   "cell_type": "code",
   "execution_count": 353,
   "metadata": {},
   "outputs": [],
   "source": [
    "dummy_data = []\n",
    "\n",
    "for year in df['Year'].unique():\n",
    "    for label in discrete_labels:\n",
    "        dummy_data.append({\n",
    "            'Entity': 'Dummy',\n",
    "            'Year': year,\n",
    "            'emission_total': 666,\n",
    "            'Code': 'DUMMY',\n",
    "            'emissions_bin': label,\n",
    "        })\n",
    "\n",
    "dummy_df = pd.DataFrame(dummy_data)\n",
    "\n",
    "df = pd.concat([df,dummy_df])"
   ]
  },
  {
   "cell_type": "code",
   "execution_count": 354,
   "metadata": {},
   "outputs": [],
   "source": [
    "fig = px.choropleth(\n",
    "    df,\n",
    "    color= \"emissions_bin\",\n",
    "    locations = \"Code\",\n",
    "    hover_name=\"Entity\",\n",
    "    hover_data={'emissions_total': True, \"emissions_bin\": False },\n",
    "    animation_frame=\"Year\",\n",
    "    projection=\"natural earth\",\n",
    "    color_discrete_map=color_discrete_map\n",
    "\n",
    ")\n"
   ]
  },
  {
   "cell_type": "code",
   "execution_count": 360,
   "metadata": {},
   "outputs": [],
   "source": [
    "fig.update_layout(\n",
    "    width=1000,  # Set width to a larger value\n",
    "    height=600,  # Set height to a larger value\n",
    "    updatemenus=[dict(\n",
    "        type='buttons',\n",
    "        showactive=False,\n",
    "        buttons=[\n",
    "            dict(\n",
    "                label='Play',\n",
    "                method='animate',\n",
    "                args=[None, dict(frame=dict(duration=30, redraw=True), fromcurrent=True)]  # Set frame duration (in ms)\n",
    "            ),\n",
    "            dict(\n",
    "                label='Pause',\n",
    "                method='animate',\n",
    "                args=[[None], dict(frame=dict(duration=0, redraw=False), mode='immediate', transition=dict(duration=0))]  # Pause animation\n",
    "            )\n",
    "        ]\n",
    "    )],\n",
    "    coloraxis_showscale=False,  # Hide default color scale\n",
    "    legend_title=\"Emissions\",  # Change the legend title manually\n",
    ")\n"
   ]
  },
  {
   "cell_type": "code",
   "execution_count": 361,
   "metadata": {},
   "outputs": [],
   "source": [
    "fig.write_html('Emissionsmap.html')"
   ]
  }
 ],
 "metadata": {
  "kernelspec": {
   "display_name": ".venv",
   "language": "python",
   "name": "python3"
  },
  "language_info": {
   "codemirror_mode": {
    "name": "ipython",
    "version": 3
   },
   "file_extension": ".py",
   "mimetype": "text/x-python",
   "name": "python",
   "nbconvert_exporter": "python",
   "pygments_lexer": "ipython3",
   "version": "3.12.5"
  }
 },
 "nbformat": 4,
 "nbformat_minor": 2
}
